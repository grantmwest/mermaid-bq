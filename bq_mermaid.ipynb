{
  "nbformat": 4,
  "nbformat_minor": 0,
  "metadata": {
    "colab": {
      "provenance": []
    },
    "kernelspec": {
      "name": "python3",
      "display_name": "Python 3"
    },
    "language_info": {
      "name": "python"
    }
  },
  "cells": [
    {
      "cell_type": "code",
      "execution_count": null,
      "metadata": {
        "id": "hCTdBrOJgfzo",
        "cellView": "form"
      },
      "outputs": [],
      "source": [
        "#@title Requirements\n",
        "!pip install pandas\n",
        "!pip install pandas_gbq"
      ]
    },
    {
      "cell_type": "code",
      "source": [
        "#@title Auth\n",
        "from google.colab import auth\n",
        "auth.authenticate_user()"
      ],
      "metadata": {
        "id": "051jtbR7gmX0",
        "cellView": "form"
      },
      "execution_count": 1,
      "outputs": []
    },
    {
      "cell_type": "code",
      "source": [
        "#@title Dependencies\n",
        "import pandas as pd\n",
        "import pandas_gbq as pdgbq\n",
        "import typing"
      ],
      "metadata": {
        "id": "PjSM5D6Pgzo1",
        "cellView": "form"
      },
      "execution_count": 2,
      "outputs": []
    },
    {
      "cell_type": "code",
      "source": [
        "#@title Data Retrieval\n",
        "\n",
        "fmt_sql_list = lambda l : str(l).replace('[', '(').replace(']', ')')\n",
        "\n",
        "def get_bq_view_dependencies(project : str, region : str, schemata : list) -> pd.DataFrame:  \n",
        "  \"\"\"Pulls a list of all view dependencies from the listed schemata.\"\"\"\n",
        "  \n",
        "  sql = r\"\"\"\n",
        "    with temp1_views as (\n",
        "      select table_name as name, table_schema as `schema`, view_definition as definition\n",
        "      from INFORMATION_SCHEMA.VIEWS\n",
        "    ),\n",
        "    temp2_tables as (\n",
        "      select table_name as name, table_schema as `schema`, table_type as `type` \n",
        "      from INFORMATION_SCHEMA.TABLES\n",
        "    ),\n",
        "    temp3_dependencies as (\n",
        "      select\n",
        "        a.`schema`,\n",
        "        a.name,\n",
        "        array_agg(distinct concat(b.`schema`, '.', b.name)) as dependencies\n",
        "      from \n",
        "        temp1_views a\n",
        "        inner join temp2_tables b\n",
        "          on regexp_contains(replace(a.definition, '`', ''), concat(b.`schema`, '.', b.name)  || '\\\\b')  --remove backticks\n",
        "      where a.`schema` in INPUT_SCHEMATA\n",
        "      group by 1, 2\n",
        "    )\n",
        "    select \n",
        "      dependency,\n",
        "      concat(a.`schema`, '.', a.name) as view\n",
        "    from temp3_dependencies a, unnest(a.dependencies) as dependency\n",
        "    \"\"\".replace('INFORMATION_SCHEMA', region + '.' + 'INFORMATION_SCHEMA').replace('INPUT_SCHEMATA', fmt_sql_list(schemata))\n",
        "  \n",
        "  return pdgbq.read_gbq(sql,project_id = project)\n",
        "\n",
        "def get_bq_tables(project : str, region : str, schemata : list) -> pd.DataFrame: # INFORMATION_SCHEMA.TABLES also includes views\n",
        "  \"\"\"Pulls a list of all tables and views from the listed schemata.\"\"\"\n",
        "\n",
        "  sql = \"\"\"\n",
        "      select table_name, table_schema, table_type\n",
        "      from INFORMATION_SCHEMA.TABLES\n",
        "      where table_schema in INPUT_SCHEMATA\n",
        "  \"\"\".replace('INFORMATION_SCHEMA', region + '.' + 'INFORMATION_SCHEMA').replace('INPUT_SCHEMATA', fmt_sql_list(schemata))\n",
        "  return pdgbq.read_gbq(sql,project_id = project)\n"
      ],
      "metadata": {
        "cellView": "form",
        "id": "RXOWyUgSqjrX"
      },
      "execution_count": 16,
      "outputs": []
    },
    {
      "cell_type": "code",
      "source": [
        "#@title Mermaid Generation\n",
        "\n",
        "\n",
        "def generate_mermaid(dependency_df: pd.DataFrame, table_df: pd.DataFrame, grouped_schemata : list) -> str:\n",
        "  \"\"\"Creates Mermaid code for dependencies, shaping table and view nodes differently and grouping specified schemata into subgraphs.\"\"\"\n",
        "\n",
        "  shape_node = lambda table_name, table_type : f'([{table_name}])' if table_type == 'VIEW' else f'({table_name})' # formats tables and views differently\n",
        "\n",
        "  mermaid = 'graph TD;' \n",
        "\n",
        "  for dependency, view in zip(dependency_df.dependency, dependency_df.view):\n",
        "    mermaid += f'\\n\\t{dependency} --> {view}'\n",
        "\n",
        "  for schema in pd.unique(table_df.table_schema):\n",
        "    schema_table_df = table_df[table_df.table_schema == schema]    \n",
        "    \n",
        "    if schema in grouped_schemata:\n",
        "      mermaid += f'\\n\\tsubgraph {schema}'\n",
        "      for table_name, table_type in zip(schema_table_df.table_name, schema_table_df.table_type):\n",
        "        mermaid += f\"\\n\\t\\t{schema}.{table_name}{shape_node(table_name, table_type)}\"\n",
        "      mermaid += '\\n\\tend'\n",
        "    else:\n",
        "      for table_name, table_type in zip(schema_table_df.table_name, schema_table_df.table_type):\n",
        "        mermaid += f\"\\n\\t{schema}.{table_name}{shape_node(f'{schema}.{table_name}', table_type)}\"    \n",
        "\n",
        "  return mermaid"
      ],
      "metadata": {
        "id": "5Ui9nRRxEZzR"
      },
      "execution_count": 18,
      "outputs": []
    },
    {
      "cell_type": "code",
      "source": [
        "print(\n",
        "  generate_mermaid(\n",
        "    get_bq_view_dependencies('project-id', 'region-id', ['schema1', 'schema2', 'schema3']),\n",
        "    get_bq_tables('project-id', 'region-id', ['schema1', 'schema2', 'schema3']),\n",
        "    ['schema2', 'schema3']\n",
        "  )\n",
        ")"
      ],
      "metadata": {
        "id": "w3bUKP1jaUb7"
      },
      "execution_count": null,
      "outputs": []
    }
  ]
}